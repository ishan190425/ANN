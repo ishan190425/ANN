{
 "cells": [
  {
   "cell_type": "code",
   "execution_count": 26,
   "metadata": {},
   "outputs": [],
   "source": [
    "import numpy as np\n",
    "import pandas as pd\n",
    "import tensorflow as tf\n",
    "from sklearn.model_selection import train_test_split\n",
    "from sklearn.metrics import confusion_matrix, accuracy_score"
   ]
  },
  {
   "cell_type": "code",
   "execution_count": 15,
   "metadata": {},
   "outputs": [],
   "source": [
    "data = pd.read_excel(\"dataset.xlsx\")\n",
    "X = data.iloc[:, :-1].values\n",
    "y = data.iloc[:,-1].values"
   ]
  },
  {
   "cell_type": "code",
   "execution_count": 16,
   "metadata": {},
   "outputs": [],
   "source": [
    "X_train, x_test, y_train, y_test = train_test_split(X, y, test_size = 0.2, random_state = 0)"
   ]
  },
  {
   "cell_type": "code",
   "execution_count": 17,
   "metadata": {},
   "outputs": [],
   "source": [
    "ann = tf.keras.models.Sequential()"
   ]
  },
  {
   "cell_type": "code",
   "execution_count": 18,
   "metadata": {},
   "outputs": [],
   "source": [
    "ann.add(tf.keras.layers.Dense(units=6,activation = 'relu')) #first hidden layer, input layer is automatic"
   ]
  },
  {
   "cell_type": "code",
   "execution_count": 19,
   "metadata": {},
   "outputs": [],
   "source": [
    "ann.add(tf.keras.layers.Dense(units=6,activation = 'relu'))#second hidden layer"
   ]
  },
  {
   "cell_type": "code",
   "execution_count": 20,
   "metadata": {},
   "outputs": [],
   "source": [
    "ann.add(tf.keras.layers.Dense(units=1))#output layer, default since this is regression not classfition \n",
    "#(no activation) "
   ]
  },
  {
   "cell_type": "code",
   "execution_count": 21,
   "metadata": {},
   "outputs": [],
   "source": [
    "#Part 3 train "
   ]
  },
  {
   "cell_type": "code",
   "execution_count": 22,
   "metadata": {},
   "outputs": [],
   "source": [
    "ann.compile(optimizer = 'adam', loss = 'mean_squared_error') #loss function to use on stoachstic gradient descent"
   ]
  },
  {
   "cell_type": "code",
   "execution_count": 23,
   "metadata": {},
   "outputs": [
    {
     "name": "stdout",
     "output_type": "stream",
     "text": [
      "Epoch 1/100\n",
      "240/240 [==============================] - 1s 497us/step - loss: 54355.3672\n",
      "Epoch 2/100\n",
      "240/240 [==============================] - 0s 474us/step - loss: 647.8029\n",
      "Epoch 3/100\n",
      "240/240 [==============================] - 0s 485us/step - loss: 590.9121\n",
      "Epoch 4/100\n",
      "240/240 [==============================] - 0s 480us/step - loss: 529.9844\n",
      "Epoch 5/100\n",
      "240/240 [==============================] - 0s 498us/step - loss: 470.3767\n",
      "Epoch 6/100\n",
      "240/240 [==============================] - 0s 493us/step - loss: 413.3291\n",
      "Epoch 7/100\n",
      "240/240 [==============================] - 0s 475us/step - loss: 360.2161\n",
      "Epoch 8/100\n",
      "240/240 [==============================] - 0s 540us/step - loss: 310.1841\n",
      "Epoch 9/100\n",
      "240/240 [==============================] - 0s 509us/step - loss: 264.0085\n",
      "Epoch 10/100\n",
      "240/240 [==============================] - 0s 584us/step - loss: 221.9268\n",
      "Epoch 11/100\n",
      "240/240 [==============================] - 0s 545us/step - loss: 183.9675\n",
      "Epoch 12/100\n",
      "240/240 [==============================] - 0s 582us/step - loss: 149.5243\n",
      "Epoch 13/100\n",
      "240/240 [==============================] - 0s 603us/step - loss: 120.9061\n",
      "Epoch 14/100\n",
      "240/240 [==============================] - 0s 595us/step - loss: 96.9189\n",
      "Epoch 15/100\n",
      "240/240 [==============================] - 0s 599us/step - loss: 77.9058\n",
      "Epoch 16/100\n",
      "240/240 [==============================] - 0s 533us/step - loss: 54.7774\n",
      "Epoch 17/100\n",
      "240/240 [==============================] - 0s 482us/step - loss: 32.9925\n",
      "Epoch 18/100\n",
      "240/240 [==============================] - 0s 511us/step - loss: 27.3894\n",
      "Epoch 19/100\n",
      "240/240 [==============================] - 0s 518us/step - loss: 26.5189\n",
      "Epoch 20/100\n",
      "240/240 [==============================] - 0s 602us/step - loss: 26.4439\n",
      "Epoch 21/100\n",
      "240/240 [==============================] - 0s 595us/step - loss: 26.5874\n",
      "Epoch 22/100\n",
      "240/240 [==============================] - 0s 587us/step - loss: 26.6753\n",
      "Epoch 23/100\n",
      "240/240 [==============================] - 0s 604us/step - loss: 26.3820\n",
      "Epoch 24/100\n",
      "240/240 [==============================] - 0s 580us/step - loss: 26.4646\n",
      "Epoch 25/100\n",
      "240/240 [==============================] - 0s 597us/step - loss: 26.5912\n",
      "Epoch 26/100\n",
      "240/240 [==============================] - 0s 591us/step - loss: 26.8297\n",
      "Epoch 27/100\n",
      "240/240 [==============================] - 0s 610us/step - loss: 26.5059\n",
      "Epoch 28/100\n",
      "240/240 [==============================] - 0s 588us/step - loss: 27.0209\n",
      "Epoch 29/100\n",
      "240/240 [==============================] - 0s 598us/step - loss: 26.8658\n",
      "Epoch 30/100\n",
      "240/240 [==============================] - 0s 597us/step - loss: 26.6560\n",
      "Epoch 31/100\n",
      "240/240 [==============================] - 0s 526us/step - loss: 27.3164\n",
      "Epoch 32/100\n",
      "240/240 [==============================] - 0s 488us/step - loss: 26.5968\n",
      "Epoch 33/100\n",
      "240/240 [==============================] - 0s 553us/step - loss: 26.7340\n",
      "Epoch 34/100\n",
      "240/240 [==============================] - 0s 576us/step - loss: 27.1401\n",
      "Epoch 35/100\n",
      "240/240 [==============================] - 0s 577us/step - loss: 26.7306\n",
      "Epoch 36/100\n",
      "240/240 [==============================] - 0s 574us/step - loss: 28.0422\n",
      "Epoch 37/100\n",
      "240/240 [==============================] - 0s 591us/step - loss: 27.5439\n",
      "Epoch 38/100\n",
      "240/240 [==============================] - 0s 578us/step - loss: 27.2867\n",
      "Epoch 39/100\n",
      "240/240 [==============================] - 0s 554us/step - loss: 27.9356\n",
      "Epoch 40/100\n",
      "240/240 [==============================] - 0s 577us/step - loss: 27.1478\n",
      "Epoch 41/100\n",
      "240/240 [==============================] - 0s 618us/step - loss: 27.6721\n",
      "Epoch 42/100\n",
      "240/240 [==============================] - 0s 582us/step - loss: 26.8370\n",
      "Epoch 43/100\n",
      "240/240 [==============================] - 0s 528us/step - loss: 27.2468\n",
      "Epoch 44/100\n",
      "240/240 [==============================] - 0s 580us/step - loss: 27.1476\n",
      "Epoch 45/100\n",
      "240/240 [==============================] - 0s 602us/step - loss: 27.5220\n",
      "Epoch 46/100\n",
      "240/240 [==============================] - 0s 587us/step - loss: 27.8942\n",
      "Epoch 47/100\n",
      "240/240 [==============================] - 0s 578us/step - loss: 26.9716\n",
      "Epoch 48/100\n",
      "240/240 [==============================] - 0s 578us/step - loss: 26.8139\n",
      "Epoch 49/100\n",
      "240/240 [==============================] - 0s 587us/step - loss: 27.3331\n",
      "Epoch 50/100\n",
      "240/240 [==============================] - 0s 647us/step - loss: 26.9708\n",
      "Epoch 51/100\n",
      "240/240 [==============================] - 0s 590us/step - loss: 26.9664\n",
      "Epoch 52/100\n",
      "240/240 [==============================] - 0s 530us/step - loss: 27.3265\n",
      "Epoch 53/100\n",
      "240/240 [==============================] - 0s 545us/step - loss: 26.9037\n",
      "Epoch 54/100\n",
      "240/240 [==============================] - 0s 575us/step - loss: 27.5987\n",
      "Epoch 55/100\n",
      "240/240 [==============================] - 0s 580us/step - loss: 27.5223\n",
      "Epoch 56/100\n",
      "240/240 [==============================] - 0s 584us/step - loss: 27.6260\n",
      "Epoch 57/100\n",
      "240/240 [==============================] - 0s 582us/step - loss: 26.7856\n",
      "Epoch 58/100\n",
      "240/240 [==============================] - 0s 578us/step - loss: 26.8183\n",
      "Epoch 59/100\n",
      "240/240 [==============================] - 0s 575us/step - loss: 26.7937\n",
      "Epoch 60/100\n",
      "240/240 [==============================] - 0s 579us/step - loss: 26.6591\n",
      "Epoch 61/100\n",
      "240/240 [==============================] - 0s 580us/step - loss: 27.0073\n",
      "Epoch 62/100\n",
      "240/240 [==============================] - 0s 567us/step - loss: 27.0865\n",
      "Epoch 63/100\n",
      "240/240 [==============================] - 0s 568us/step - loss: 27.5668\n",
      "Epoch 64/100\n",
      "240/240 [==============================] - 0s 536us/step - loss: 27.3426\n",
      "Epoch 65/100\n",
      "240/240 [==============================] - 0s 581us/step - loss: 26.4618\n",
      "Epoch 66/100\n",
      "240/240 [==============================] - 0s 590us/step - loss: 27.5910\n",
      "Epoch 67/100\n",
      "240/240 [==============================] - 0s 554us/step - loss: 29.0180\n",
      "Epoch 68/100\n",
      "240/240 [==============================] - 0s 555us/step - loss: 26.7713\n",
      "Epoch 69/100\n",
      "240/240 [==============================] - 0s 574us/step - loss: 26.7899\n",
      "Epoch 70/100\n",
      "240/240 [==============================] - 0s 561us/step - loss: 26.7887\n",
      "Epoch 71/100\n",
      "240/240 [==============================] - 0s 597us/step - loss: 27.1903\n",
      "Epoch 72/100\n",
      "240/240 [==============================] - 0s 564us/step - loss: 27.1241\n",
      "Epoch 73/100\n",
      "240/240 [==============================] - 0s 577us/step - loss: 27.2416\n",
      "Epoch 74/100\n",
      "240/240 [==============================] - 0s 571us/step - loss: 26.8502\n",
      "Epoch 75/100\n",
      "240/240 [==============================] - 0s 567us/step - loss: 26.3780\n",
      "Epoch 76/100\n",
      "240/240 [==============================] - 0s 576us/step - loss: 26.9896\n",
      "Epoch 77/100\n",
      "240/240 [==============================] - 0s 568us/step - loss: 27.3537\n",
      "Epoch 78/100\n",
      "240/240 [==============================] - 0s 571us/step - loss: 27.0154\n",
      "Epoch 79/100\n",
      "240/240 [==============================] - 0s 568us/step - loss: 27.2384\n",
      "Epoch 80/100\n",
      "240/240 [==============================] - 0s 582us/step - loss: 27.8175\n",
      "Epoch 81/100\n",
      "240/240 [==============================] - 0s 576us/step - loss: 26.9413\n",
      "Epoch 82/100\n",
      "240/240 [==============================] - 0s 573us/step - loss: 27.2326\n",
      "Epoch 83/100\n",
      "240/240 [==============================] - 0s 574us/step - loss: 26.6071\n",
      "Epoch 84/100\n",
      "240/240 [==============================] - 0s 572us/step - loss: 27.6620\n",
      "Epoch 85/100\n",
      "240/240 [==============================] - 0s 598us/step - loss: 27.2388\n",
      "Epoch 86/100\n",
      "240/240 [==============================] - 0s 607us/step - loss: 27.2932\n",
      "Epoch 87/100\n",
      "240/240 [==============================] - 0s 602us/step - loss: 26.9596\n",
      "Epoch 88/100\n",
      "240/240 [==============================] - 0s 552us/step - loss: 26.9137\n",
      "Epoch 89/100\n",
      "240/240 [==============================] - 0s 575us/step - loss: 27.4355\n",
      "Epoch 90/100\n",
      "240/240 [==============================] - 0s 573us/step - loss: 27.4343\n",
      "Epoch 91/100\n",
      "240/240 [==============================] - 0s 566us/step - loss: 26.7975\n",
      "Epoch 92/100\n",
      "240/240 [==============================] - 0s 574us/step - loss: 26.9244\n",
      "Epoch 93/100\n",
      "240/240 [==============================] - 0s 586us/step - loss: 26.8236\n",
      "Epoch 94/100\n",
      "240/240 [==============================] - 0s 621us/step - loss: 27.6746\n",
      "Epoch 95/100\n",
      "240/240 [==============================] - 0s 692us/step - loss: 26.7388\n",
      "Epoch 96/100\n"
     ]
    },
    {
     "name": "stdout",
     "output_type": "stream",
     "text": [
      "240/240 [==============================] - 0s 588us/step - loss: 26.7868\n",
      "Epoch 97/100\n",
      "240/240 [==============================] - 0s 590us/step - loss: 27.0188\n",
      "Epoch 98/100\n",
      "240/240 [==============================] - 0s 633us/step - loss: 27.0969\n",
      "Epoch 99/100\n",
      "240/240 [==============================] - 0s 544us/step - loss: 26.7732\n",
      "Epoch 100/100\n",
      "240/240 [==============================] - 0s 566us/step - loss: 27.7673\n"
     ]
    },
    {
     "data": {
      "text/plain": [
       "<tensorflow.python.keras.callbacks.History at 0x7fb251cd7fd0>"
      ]
     },
     "execution_count": 23,
     "metadata": {},
     "output_type": "execute_result"
    }
   ],
   "source": [
    "ann.fit(X_train,y_train, batch_size = 32, epochs = 100) #train"
   ]
  },
  {
   "cell_type": "code",
   "execution_count": 27,
   "metadata": {},
   "outputs": [],
   "source": [
    "y_pred = ann.predict(x_test)"
   ]
  },
  {
   "cell_type": "code",
   "execution_count": 31,
   "metadata": {},
   "outputs": [
    {
     "name": "stdout",
     "output_type": "stream",
     "text": [
      "[[431.19 431.23]\n",
      " [462.14 460.01]\n",
      " [465.64 461.14]\n",
      " ...\n",
      " [472.85 473.26]\n",
      " [439.65 438.  ]\n",
      " [458.84 463.28]]\n"
     ]
    }
   ],
   "source": [
    "np.set_printoptions(precision=2) #two decimal poirnts\n",
    "print(np.concatenate((y_pred.reshape(len(y_pred),1),y_test.reshape(len(y_test),1)),1)) #observed vs predicted"
   ]
  },
  {
   "cell_type": "code",
   "execution_count": null,
   "metadata": {},
   "outputs": [],
   "source": []
  }
 ],
 "metadata": {
  "kernelspec": {
   "display_name": "Python 3",
   "language": "python",
   "name": "python3"
  },
  "language_info": {
   "codemirror_mode": {
    "name": "ipython",
    "version": 3
   },
   "file_extension": ".py",
   "mimetype": "text/x-python",
   "name": "python",
   "nbconvert_exporter": "python",
   "pygments_lexer": "ipython3",
   "version": "3.7.6"
  }
 },
 "nbformat": 4,
 "nbformat_minor": 4
}
